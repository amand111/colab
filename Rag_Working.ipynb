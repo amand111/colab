{
  "nbformat": 4,
  "nbformat_minor": 0,
  "metadata": {
    "colab": {
      "provenance": [],
      "authorship_tag": "ABX9TyOz+3F4h+bX08zKBSBg52Df",
      "include_colab_link": true
    },
    "kernelspec": {
      "name": "python3",
      "display_name": "Python 3"
    },
    "language_info": {
      "name": "python"
    }
  },
  "cells": [
    {
      "cell_type": "markdown",
      "metadata": {
        "id": "view-in-github",
        "colab_type": "text"
      },
      "source": [
        "<a href=\"https://colab.research.google.com/github/amand111/colab/blob/main/Rag_Working.ipynb\" target=\"_parent\"><img src=\"https://colab.research.google.com/assets/colab-badge.svg\" alt=\"Open In Colab\"/></a>"
      ]
    },
    {
      "cell_type": "code",
      "source": [
        "!pip install langchain\n",
        "!pip install openai\n",
        "!pip install unstructured\n",
        "!pip install tiktoken\n",
        "!pip install faiss-cpu"
      ],
      "metadata": {
        "colab": {
          "base_uri": "https://localhost:8080/"
        },
        "id": "KExzr7ZlWACb",
        "outputId": "159f036a-1e0d-4483-f5d6-badf0ac3bde9"
      },
      "execution_count": 31,
      "outputs": [
        {
          "output_type": "stream",
          "name": "stdout",
          "text": [
            "Requirement already satisfied: langchain in /usr/local/lib/python3.10/dist-packages (0.1.17)\n",
            "Requirement already satisfied: PyYAML>=5.3 in /usr/local/lib/python3.10/dist-packages (from langchain) (6.0.1)\n",
            "Requirement already satisfied: SQLAlchemy<3,>=1.4 in /usr/local/lib/python3.10/dist-packages (from langchain) (2.0.29)\n",
            "Requirement already satisfied: aiohttp<4.0.0,>=3.8.3 in /usr/local/lib/python3.10/dist-packages (from langchain) (3.9.5)\n",
            "Requirement already satisfied: async-timeout<5.0.0,>=4.0.0 in /usr/local/lib/python3.10/dist-packages (from langchain) (4.0.3)\n",
            "Requirement already satisfied: dataclasses-json<0.7,>=0.5.7 in /usr/local/lib/python3.10/dist-packages (from langchain) (0.6.5)\n",
            "Requirement already satisfied: jsonpatch<2.0,>=1.33 in /usr/local/lib/python3.10/dist-packages (from langchain) (1.33)\n",
            "Requirement already satisfied: langchain-community<0.1,>=0.0.36 in /usr/local/lib/python3.10/dist-packages (from langchain) (0.0.36)\n",
            "Requirement already satisfied: langchain-core<0.2.0,>=0.1.48 in /usr/local/lib/python3.10/dist-packages (from langchain) (0.1.49)\n",
            "Requirement already satisfied: langchain-text-splitters<0.1,>=0.0.1 in /usr/local/lib/python3.10/dist-packages (from langchain) (0.0.1)\n",
            "Requirement already satisfied: langsmith<0.2.0,>=0.1.17 in /usr/local/lib/python3.10/dist-packages (from langchain) (0.1.53)\n",
            "Requirement already satisfied: numpy<2,>=1 in /usr/local/lib/python3.10/dist-packages (from langchain) (1.25.2)\n",
            "Requirement already satisfied: pydantic<3,>=1 in /usr/local/lib/python3.10/dist-packages (from langchain) (2.7.1)\n",
            "Requirement already satisfied: requests<3,>=2 in /usr/local/lib/python3.10/dist-packages (from langchain) (2.31.0)\n",
            "Requirement already satisfied: tenacity<9.0.0,>=8.1.0 in /usr/local/lib/python3.10/dist-packages (from langchain) (8.2.3)\n",
            "Requirement already satisfied: aiosignal>=1.1.2 in /usr/local/lib/python3.10/dist-packages (from aiohttp<4.0.0,>=3.8.3->langchain) (1.3.1)\n",
            "Requirement already satisfied: attrs>=17.3.0 in /usr/local/lib/python3.10/dist-packages (from aiohttp<4.0.0,>=3.8.3->langchain) (23.2.0)\n",
            "Requirement already satisfied: frozenlist>=1.1.1 in /usr/local/lib/python3.10/dist-packages (from aiohttp<4.0.0,>=3.8.3->langchain) (1.4.1)\n",
            "Requirement already satisfied: multidict<7.0,>=4.5 in /usr/local/lib/python3.10/dist-packages (from aiohttp<4.0.0,>=3.8.3->langchain) (6.0.5)\n",
            "Requirement already satisfied: yarl<2.0,>=1.0 in /usr/local/lib/python3.10/dist-packages (from aiohttp<4.0.0,>=3.8.3->langchain) (1.9.4)\n",
            "Requirement already satisfied: marshmallow<4.0.0,>=3.18.0 in /usr/local/lib/python3.10/dist-packages (from dataclasses-json<0.7,>=0.5.7->langchain) (3.21.2)\n",
            "Requirement already satisfied: typing-inspect<1,>=0.4.0 in /usr/local/lib/python3.10/dist-packages (from dataclasses-json<0.7,>=0.5.7->langchain) (0.9.0)\n",
            "Requirement already satisfied: jsonpointer>=1.9 in /usr/local/lib/python3.10/dist-packages (from jsonpatch<2.0,>=1.33->langchain) (2.4)\n",
            "Requirement already satisfied: packaging<24.0,>=23.2 in /usr/local/lib/python3.10/dist-packages (from langchain-core<0.2.0,>=0.1.48->langchain) (23.2)\n",
            "Requirement already satisfied: orjson<4.0.0,>=3.9.14 in /usr/local/lib/python3.10/dist-packages (from langsmith<0.2.0,>=0.1.17->langchain) (3.10.2)\n",
            "Requirement already satisfied: annotated-types>=0.4.0 in /usr/local/lib/python3.10/dist-packages (from pydantic<3,>=1->langchain) (0.6.0)\n",
            "Requirement already satisfied: pydantic-core==2.18.2 in /usr/local/lib/python3.10/dist-packages (from pydantic<3,>=1->langchain) (2.18.2)\n",
            "Requirement already satisfied: typing-extensions>=4.6.1 in /usr/local/lib/python3.10/dist-packages (from pydantic<3,>=1->langchain) (4.11.0)\n",
            "Requirement already satisfied: charset-normalizer<4,>=2 in /usr/local/lib/python3.10/dist-packages (from requests<3,>=2->langchain) (3.3.2)\n",
            "Requirement already satisfied: idna<4,>=2.5 in /usr/local/lib/python3.10/dist-packages (from requests<3,>=2->langchain) (3.7)\n",
            "Requirement already satisfied: urllib3<3,>=1.21.1 in /usr/local/lib/python3.10/dist-packages (from requests<3,>=2->langchain) (2.0.7)\n",
            "Requirement already satisfied: certifi>=2017.4.17 in /usr/local/lib/python3.10/dist-packages (from requests<3,>=2->langchain) (2024.2.2)\n",
            "Requirement already satisfied: greenlet!=0.4.17 in /usr/local/lib/python3.10/dist-packages (from SQLAlchemy<3,>=1.4->langchain) (3.0.3)\n",
            "Requirement already satisfied: mypy-extensions>=0.3.0 in /usr/local/lib/python3.10/dist-packages (from typing-inspect<1,>=0.4.0->dataclasses-json<0.7,>=0.5.7->langchain) (1.0.0)\n",
            "Requirement already satisfied: openai in /usr/local/lib/python3.10/dist-packages (1.25.1)\n",
            "Requirement already satisfied: anyio<5,>=3.5.0 in /usr/local/lib/python3.10/dist-packages (from openai) (3.7.1)\n",
            "Requirement already satisfied: distro<2,>=1.7.0 in /usr/lib/python3/dist-packages (from openai) (1.7.0)\n",
            "Requirement already satisfied: httpx<1,>=0.23.0 in /usr/local/lib/python3.10/dist-packages (from openai) (0.27.0)\n",
            "Requirement already satisfied: pydantic<3,>=1.9.0 in /usr/local/lib/python3.10/dist-packages (from openai) (2.7.1)\n",
            "Requirement already satisfied: sniffio in /usr/local/lib/python3.10/dist-packages (from openai) (1.3.1)\n",
            "Requirement already satisfied: tqdm>4 in /usr/local/lib/python3.10/dist-packages (from openai) (4.66.2)\n",
            "Requirement already satisfied: typing-extensions<5,>=4.7 in /usr/local/lib/python3.10/dist-packages (from openai) (4.11.0)\n",
            "Requirement already satisfied: idna>=2.8 in /usr/local/lib/python3.10/dist-packages (from anyio<5,>=3.5.0->openai) (3.7)\n",
            "Requirement already satisfied: exceptiongroup in /usr/local/lib/python3.10/dist-packages (from anyio<5,>=3.5.0->openai) (1.2.1)\n",
            "Requirement already satisfied: certifi in /usr/local/lib/python3.10/dist-packages (from httpx<1,>=0.23.0->openai) (2024.2.2)\n",
            "Requirement already satisfied: httpcore==1.* in /usr/local/lib/python3.10/dist-packages (from httpx<1,>=0.23.0->openai) (1.0.5)\n",
            "Requirement already satisfied: h11<0.15,>=0.13 in /usr/local/lib/python3.10/dist-packages (from httpcore==1.*->httpx<1,>=0.23.0->openai) (0.14.0)\n",
            "Requirement already satisfied: annotated-types>=0.4.0 in /usr/local/lib/python3.10/dist-packages (from pydantic<3,>=1.9.0->openai) (0.6.0)\n",
            "Requirement already satisfied: pydantic-core==2.18.2 in /usr/local/lib/python3.10/dist-packages (from pydantic<3,>=1.9.0->openai) (2.18.2)\n",
            "Requirement already satisfied: unstructured in /usr/local/lib/python3.10/dist-packages (0.13.6)\n",
            "Requirement already satisfied: chardet in /usr/local/lib/python3.10/dist-packages (from unstructured) (5.2.0)\n",
            "Requirement already satisfied: filetype in /usr/local/lib/python3.10/dist-packages (from unstructured) (1.2.0)\n",
            "Requirement already satisfied: python-magic in /usr/local/lib/python3.10/dist-packages (from unstructured) (0.4.27)\n",
            "Requirement already satisfied: lxml in /usr/local/lib/python3.10/dist-packages (from unstructured) (4.9.4)\n",
            "Requirement already satisfied: nltk in /usr/local/lib/python3.10/dist-packages (from unstructured) (3.8.1)\n",
            "Requirement already satisfied: tabulate in /usr/local/lib/python3.10/dist-packages (from unstructured) (0.9.0)\n",
            "Requirement already satisfied: requests in /usr/local/lib/python3.10/dist-packages (from unstructured) (2.31.0)\n",
            "Requirement already satisfied: beautifulsoup4 in /usr/local/lib/python3.10/dist-packages (from unstructured) (4.12.3)\n",
            "Requirement already satisfied: emoji in /usr/local/lib/python3.10/dist-packages (from unstructured) (2.11.1)\n",
            "Requirement already satisfied: dataclasses-json in /usr/local/lib/python3.10/dist-packages (from unstructured) (0.6.5)\n",
            "Requirement already satisfied: python-iso639 in /usr/local/lib/python3.10/dist-packages (from unstructured) (2024.4.27)\n",
            "Requirement already satisfied: langdetect in /usr/local/lib/python3.10/dist-packages (from unstructured) (1.0.9)\n",
            "Requirement already satisfied: numpy in /usr/local/lib/python3.10/dist-packages (from unstructured) (1.25.2)\n",
            "Requirement already satisfied: rapidfuzz in /usr/local/lib/python3.10/dist-packages (from unstructured) (3.8.1)\n",
            "Requirement already satisfied: backoff in /usr/local/lib/python3.10/dist-packages (from unstructured) (2.2.1)\n",
            "Requirement already satisfied: typing-extensions in /usr/local/lib/python3.10/dist-packages (from unstructured) (4.11.0)\n",
            "Requirement already satisfied: unstructured-client in /usr/local/lib/python3.10/dist-packages (from unstructured) (0.22.0)\n",
            "Requirement already satisfied: wrapt in /usr/local/lib/python3.10/dist-packages (from unstructured) (1.14.1)\n",
            "Requirement already satisfied: soupsieve>1.2 in /usr/local/lib/python3.10/dist-packages (from beautifulsoup4->unstructured) (2.5)\n",
            "Requirement already satisfied: marshmallow<4.0.0,>=3.18.0 in /usr/local/lib/python3.10/dist-packages (from dataclasses-json->unstructured) (3.21.2)\n",
            "Requirement already satisfied: typing-inspect<1,>=0.4.0 in /usr/local/lib/python3.10/dist-packages (from dataclasses-json->unstructured) (0.9.0)\n",
            "Requirement already satisfied: six in /usr/local/lib/python3.10/dist-packages (from langdetect->unstructured) (1.16.0)\n",
            "Requirement already satisfied: click in /usr/local/lib/python3.10/dist-packages (from nltk->unstructured) (8.1.7)\n",
            "Requirement already satisfied: joblib in /usr/local/lib/python3.10/dist-packages (from nltk->unstructured) (1.4.0)\n",
            "Requirement already satisfied: regex>=2021.8.3 in /usr/local/lib/python3.10/dist-packages (from nltk->unstructured) (2023.12.25)\n",
            "Requirement already satisfied: tqdm in /usr/local/lib/python3.10/dist-packages (from nltk->unstructured) (4.66.2)\n",
            "Requirement already satisfied: charset-normalizer<4,>=2 in /usr/local/lib/python3.10/dist-packages (from requests->unstructured) (3.3.2)\n",
            "Requirement already satisfied: idna<4,>=2.5 in /usr/local/lib/python3.10/dist-packages (from requests->unstructured) (3.7)\n",
            "Requirement already satisfied: urllib3<3,>=1.21.1 in /usr/local/lib/python3.10/dist-packages (from requests->unstructured) (2.0.7)\n",
            "Requirement already satisfied: certifi>=2017.4.17 in /usr/local/lib/python3.10/dist-packages (from requests->unstructured) (2024.2.2)\n",
            "Requirement already satisfied: deepdiff>=6.0 in /usr/local/lib/python3.10/dist-packages (from unstructured-client->unstructured) (7.0.1)\n",
            "Requirement already satisfied: jsonpath-python>=1.0.6 in /usr/local/lib/python3.10/dist-packages (from unstructured-client->unstructured) (1.0.6)\n",
            "Requirement already satisfied: mypy-extensions>=1.0.0 in /usr/local/lib/python3.10/dist-packages (from unstructured-client->unstructured) (1.0.0)\n",
            "Requirement already satisfied: packaging>=23.1 in /usr/local/lib/python3.10/dist-packages (from unstructured-client->unstructured) (23.2)\n",
            "Requirement already satisfied: pypdf>=4.0 in /usr/local/lib/python3.10/dist-packages (from unstructured-client->unstructured) (4.2.0)\n",
            "Requirement already satisfied: python-dateutil>=2.8.2 in /usr/local/lib/python3.10/dist-packages (from unstructured-client->unstructured) (2.8.2)\n",
            "Requirement already satisfied: ordered-set<4.2.0,>=4.1.0 in /usr/local/lib/python3.10/dist-packages (from deepdiff>=6.0->unstructured-client->unstructured) (4.1.0)\n",
            "Requirement already satisfied: tiktoken in /usr/local/lib/python3.10/dist-packages (0.6.0)\n",
            "Requirement already satisfied: regex>=2022.1.18 in /usr/local/lib/python3.10/dist-packages (from tiktoken) (2023.12.25)\n",
            "Requirement already satisfied: requests>=2.26.0 in /usr/local/lib/python3.10/dist-packages (from tiktoken) (2.31.0)\n",
            "Requirement already satisfied: charset-normalizer<4,>=2 in /usr/local/lib/python3.10/dist-packages (from requests>=2.26.0->tiktoken) (3.3.2)\n",
            "Requirement already satisfied: idna<4,>=2.5 in /usr/local/lib/python3.10/dist-packages (from requests>=2.26.0->tiktoken) (3.7)\n",
            "Requirement already satisfied: urllib3<3,>=1.21.1 in /usr/local/lib/python3.10/dist-packages (from requests>=2.26.0->tiktoken) (2.0.7)\n",
            "Requirement already satisfied: certifi>=2017.4.17 in /usr/local/lib/python3.10/dist-packages (from requests>=2.26.0->tiktoken) (2024.2.2)\n",
            "Collecting faiss-cpu\n",
            "  Downloading faiss_cpu-1.8.0-cp310-cp310-manylinux_2_17_x86_64.manylinux2014_x86_64.whl (27.0 MB)\n",
            "\u001b[2K     \u001b[90m━━━━━━━━━━━━━━━━━━━━━━━━━━━━━━━━━━━━━━━━\u001b[0m \u001b[32m27.0/27.0 MB\u001b[0m \u001b[31m28.0 MB/s\u001b[0m eta \u001b[36m0:00:00\u001b[0m\n",
            "\u001b[?25hRequirement already satisfied: numpy in /usr/local/lib/python3.10/dist-packages (from faiss-cpu) (1.25.2)\n",
            "Installing collected packages: faiss-cpu\n",
            "Successfully installed faiss-cpu-1.8.0\n"
          ]
        }
      ]
    },
    {
      "cell_type": "code",
      "source": [
        "# prompt: add env variable OPENAI_API_KEY\n",
        "\n",
        "!export OPENAI_API_KEY=\"\"\n"
      ],
      "metadata": {
        "id": "za1PHP3dZc1V"
      },
      "execution_count": 24,
      "outputs": []
    },
    {
      "cell_type": "code",
      "execution_count": 8,
      "metadata": {
        "id": "Z7hLn7yOUfWg"
      },
      "outputs": [],
      "source": [
        "# RAG-Demo: all imports go here\n",
        "\n",
        "import pickle\n",
        "import time\n",
        "import langchain\n",
        "from langchain import OpenAI\n",
        "from langchain.chains import RetrievalQAWithSourcesChain\n",
        "from langchain.chains.qa_with_sources.loading import load_qa_with_sources_chain\n",
        "from langchain.text_splitter import RecursiveCharacterTextSplitter\n",
        "from langchain.document_loaders import UnstructuredURLLoader\n",
        "from langchain.embeddings import OpenAIEmbeddings\n",
        "from langchain.vectorstores import FAISS"
      ]
    },
    {
      "cell_type": "code",
      "source": [
        "#RAG-Demo: Test connection using a simple prompt\n",
        "import langchain\n",
        "from langchain.chains import LLMChain\n",
        "from langchain.prompts import PromptTemplate\n",
        "\n",
        "template = \"\"\"Question: {question}\n",
        "\"\"\"\n",
        "prompt = PromptTemplate.from_template(template)\n",
        "openai_api_keyvar=\"\"\n",
        "\n",
        "llm = OpenAI(openai_api_key=openai_api_keyvar)\n",
        "question = \"What does Microsoft do? Who is CEO\"\n",
        "\n",
        "llm_chain = LLMChain(prompt=prompt, llm=llm)\n",
        "llm_chain.run(question)"
      ],
      "metadata": {
        "colab": {
          "base_uri": "https://localhost:8080/",
          "height": 145
        },
        "id": "HrMuIGW7VT_K",
        "outputId": "1d941fed-0472-413c-ab4f-55d2ac98aa58"
      },
      "execution_count": 14,
      "outputs": [
        {
          "output_type": "stream",
          "name": "stderr",
          "text": [
            "/usr/local/lib/python3.10/dist-packages/langchain_core/_api/deprecation.py:119: LangChainDeprecationWarning: The class `LLMChain` was deprecated in LangChain 0.1.17 and will be removed in 0.3.0. Use RunnableSequence, e.g., `prompt | llm` instead.\n",
            "  warn_deprecated(\n",
            "/usr/local/lib/python3.10/dist-packages/langchain_core/_api/deprecation.py:119: LangChainDeprecationWarning: The method `Chain.run` was deprecated in langchain 0.1.0 and will be removed in 0.2.0. Use invoke instead.\n",
            "  warn_deprecated(\n"
          ]
        },
        {
          "output_type": "execute_result",
          "data": {
            "text/plain": [
              "'\\nMicrosoft is a multinational technology company that develops, manufactures, licenses, supports, and sells computer software, consumer electronics, and personal computers. The company is best known for its Windows operating system and Microsoft Office suite of productivity software.\\n\\nThe CEO of Microsoft is Satya Nadella, who has held the position since 2014.'"
            ],
            "application/vnd.google.colaboratory.intrinsic+json": {
              "type": "string"
            }
          },
          "metadata": {},
          "execution_count": 14
        }
      ]
    },
    {
      "cell_type": "code",
      "source": [
        "# prompt: loaders unstructuredURLLoader,\n",
        "\n",
        "from langchain.document_loaders import UnstructuredURLLoader\n",
        "\n",
        "# Create an UnstructuredURLLoader instance\n",
        "loaders = UnstructuredURLLoader(urls=[\n",
        "    \"https://en.wikipedia.org/wiki/Microsoft\",\n",
        "    \"https://en.wikipedia.org/wiki/Google\",\n",
        "    ])\n",
        "\n",
        "# Use the loader to load documents from the URL\n",
        "documents = loaders.load()\n",
        "\n",
        "# Print the number of documents loaded\n",
        "print(f\"Number of documents loaded: {len(documents)}\")\n"
      ],
      "metadata": {
        "colab": {
          "base_uri": "https://localhost:8080/"
        },
        "id": "kuLzxEpBVTyB",
        "outputId": "2aaef908-1aa4-47fb-de8d-fcb2678b626d"
      },
      "execution_count": 19,
      "outputs": [
        {
          "output_type": "stream",
          "name": "stderr",
          "text": [
            "[nltk_data] Downloading package punkt to /root/nltk_data...\n",
            "[nltk_data]   Unzipping tokenizers/punkt.zip.\n",
            "[nltk_data] Downloading package averaged_perceptron_tagger to\n",
            "[nltk_data]     /root/nltk_data...\n",
            "[nltk_data]   Unzipping taggers/averaged_perceptron_tagger.zip.\n"
          ]
        },
        {
          "output_type": "stream",
          "name": "stdout",
          "text": [
            "Number of documents loaded: 2\n"
          ]
        }
      ]
    },
    {
      "cell_type": "code",
      "source": [
        "# prompt: Splitting text by recursive look at characters\n",
        "\n",
        "# Create a RecursiveCharacterTextSplitter instance with a character overlap of 40\n",
        "text_splitter = RecursiveCharacterTextSplitter(chunk_overlap=100, chunk_size=900)\n",
        "\n",
        "# Use the text_splitter to split the documents into chunks\n",
        "docs = text_splitter.split_documents(documents)\n",
        "\n",
        "# Print the number of documents after splitting\n",
        "print(f\"Number of documents after splitting: {len(docs)}\")\n"
      ],
      "metadata": {
        "colab": {
          "base_uri": "https://localhost:8080/"
        },
        "id": "Ylq6ke_aVTpV",
        "outputId": "f765f69a-dc73-4931-9177-997de61c2bb9"
      },
      "execution_count": 20,
      "outputs": [
        {
          "output_type": "stream",
          "name": "stdout",
          "text": [
            "Number of documents after splitting: 393\n"
          ]
        }
      ]
    },
    {
      "cell_type": "code",
      "source": [
        "# prompt: User openAIEmbeddings to create embeddings\n",
        "from langchain.embeddings import OpenAIEmbeddings\n",
        "\n",
        "\n",
        "embeddings = OpenAIEmbeddings(openai_api_key=\"sk-proj-y8ujNvfd0wrgfN8uRcEuT3BlbkFJ3jcLiPerZKFwiB1IIWrj\")\n",
        "# vectorstore = FAISS.from_documents(docs, embeddings)\n",
        "\n",
        "query_result = embeddings.embed_query(\"hello how are you doing\")\n",
        "len(query_result)\n",
        "print(query_result)\n",
        "\n",
        "\n",
        "\n"
      ],
      "metadata": {
        "colab": {
          "base_uri": "https://localhost:8080/"
        },
        "id": "B64heKM5YxEd",
        "outputId": "09780393-b7d1-4e45-aaba-2c0df9c269b5"
      },
      "execution_count": 29,
      "outputs": [
        {
          "output_type": "stream",
          "name": "stdout",
          "text": [
            "[-0.03122585592397714, -0.005931257069220259, -0.006895921966365138, -0.04217782804778852, -0.02832231051911375, 0.02139454989213113, -0.01817263371357744, -0.0090735819513353, -0.021063444212987413, -0.0008018977017256289, 0.02671771801991838, 0.00829675551264446, -0.021305407416602418, -0.0043616864913444174, -0.004972959624802092, -0.021827534814902218, 0.0254060283461517, -0.024298097159639757, 0.011168464585196916, -0.006934126682725402, -0.007679115392121382, -2.6962068043327534e-05, 0.0019452485425218607, -0.013486208064493401, -0.00843047201990538, -0.016402489306132834, 0.01055082446467384, -0.010996544292898347, 0.021993088585796693, -0.0439352375497797, -0.0010362985074897186, 0.010697274946065566, -0.018974929031852508, 0.0009312360031603022, -0.0014223236992319686, -0.016886413850717603, -0.01347347315903998, -0.013689965620425524, 0.02138181498667771, -0.008073895598532206, 0.02112711874025452, -0.014199359975917137, 0.0020423518473582157, -0.006934126682725402, -0.013817313743637118, 0.008927130538620957, 0.006609387990647087, -0.02517680191063535, 0.006141382077879092, 0.037465931656475014, 0.03489349193075534, 0.013142366548573647, -0.02964673509833385, -0.02720164256450315, 0.004804222593205569, 0.01898766393730593, -0.004861529667745965, 0.02040123285469998, -0.01393192789271791, -0.021420019703037974, -0.0028430555352822596, 0.009321911676354397, 0.0029321996406255534, 0.014237563760954785, -0.0024785204964926574, 0.014441321316886906, 0.024043399050571335, 0.003342898478853153, -0.012944976445368236, 0.01647889873885336, 0.006192321699692777, -0.0042757263451951326, -0.014033806205022663, -0.002650441021621881, 0.029901431344757038, -0.016708125174369707, -0.014797897738260082, 0.014148420354103453, -0.0036644534445681126, 0.0023161511504535, 0.04008931472929884, -0.03840831093473771, -0.008016589455314426, 0.021203528172975047, 0.027634627487274237, 0.0003334939395775419, -0.011862514138440519, 0.0037886183070776603, -0.009646649902771403, -0.012480154258963596, -0.00022644157716719674, 0.020133799840178136, -0.0013435268209849064, 0.018809375260958033, -0.026513961395308875, 0.008736107888142256, -0.007125149333204103, 0.031073037058536087, 0.001975493826558409, -0.014823367549166924, -0.012562931144410833, -0.008729740435415545, -0.0030866096707563226, -0.012397378304838976, -0.01591856476154806, 0.00720792621865134, -0.017892465793602177, -0.0162624053461452, 0.017523155398098195, -0.024820226420584793, 0.0032298766586153485, 0.032066357821257704, 0.008755210246322387, -0.03525006928345113, -0.014390382626395838, 0.001606979129814613, -0.02266803671218278, 0.002219047962032472, -0.0312003861130703, -0.012887670302150456, 0.01561292796198857, 0.011798839611173414, 0.019598937536424912, -0.002055086752811637, 0.0153200260678825, 0.006147749530605803, -0.035937750452645405, -0.017268459151675006, 0.017790588412620042, 0.014173890165010295, 0.028067612410045326, -0.0038554763278774674, 0.0046068324900001584, 0.0006753451026512278, -0.023725028276881038, 0.01984089887739468, -0.022107702734877485, 0.017510420492644774, -0.014963450577831942, -0.015281822282844854, -0.0035721258456921172, 0.020108330029271294, 0.01441585243730268, -0.012753953794889535, -0.019242360183729122, 0.003311061448050254, 0.015472844933323553, -0.02186573953126248, 0.00729070263843727, -0.014352177910035575, -0.0016053872666329354, -0.00700416819705791, 0.03547929758161271, 0.011977128287521309, 0.012263661797578053, 0.016300610062505463, -0.00256607250582362, 0.020936095158453204, -0.010442578699642376, -0.021407284797584553, -0.01318057126493391, -0.01710290538078053, 0.02047764228742051, -0.003613514055585082, -0.010143309352809595, 0.0398855562420441, 0.010181514069169858, 0.007710952655754935, -0.012129946221639747, 0.001619713918852707, 0.012123578768913037, 0.011843411780260387, -0.04821414715567688, 0.012308233966665028, -0.024234422632372653, -0.004256623987015001, 0.017535890303551616, 0.0021824351088538863, -0.0252659462488093, -0.020859687588377907, -0.012938608992641525, 0.013537147686307087, 0.024845696231491635, 0.03280497861226567, 0.005390025915756402, 0.01593129966700148, 0.016911883661624445, -0.0006387324240956326, 0.020312088516526033, -0.013817313743637118, 0.009353748939987949, 0.04095528457484102, 0.027660097298181082, -0.015447375122416711, -0.6679175198026025, -0.014110215637743189, 0.02694694631807996, 0.005612885829868655, -0.00035617787350112126, 0.014326708099128732, 0.011709696204322082, 0.02527868115426272, -0.020681398912030014, 0.03965632794388252, 0.005189452086187635, 0.02918828036465592, 0.004457198282245076, -0.007335274341862936, 0.008029324360767847, -0.007239763016623585, 0.005033449960044534, -0.0010402781654439126, -0.007112414427750681, 0.00513851246437395, -0.024845696231491635, 0.009347381487261238, -0.028194961464579536, 0.0036644534445681126, 0.025660726455220124, -0.00700416819705791, 0.02196761877488985, -0.004718262447056285, -0.030563644565689708, 0.0439352375497797, -0.012989548614455209, 0.022018558396703535, 0.016797269512543657, 0.003330163806230386, 0.05572771157087164, -0.004871080846836031, 0.0012901996372293592, 0.009856774911430236, 0.013269715603107858, 0.05491268134714315, -0.01984089887739468, -0.018058019564496652, 0.011537775912023512, -0.015460110027870132, 0.027583687865460553, -0.009391952725025595, -0.0013339757583101675, -0.005148063643464016, 0.016185995913424674, -0.012371908493932132, 0.03405299189612001, 0.015409170406056449, 0.0003766730246537256, 0.005361372378486204, 0.0005261085696532475, -0.000856418782867434, 0.021649248001199554, -0.009054479593155168, 0.001881574364500736, 0.015090798701043536, 0.004310747335192041, -0.0011135036389704302, -0.008895294206310021, 0.013142366548573647, -0.016669920458009444, 0.014721488305539555, -0.0032203257123559364, -0.007691850297574803, -0.0008596025092307894, 0.0075645017087019, 0.00757086916142861, 0.016198730818878095, -0.026743187830825223, -0.001943656679340183, 0.0017558176388095105, 0.030308946456621282, 0.019038603559119616, -0.008455941830812223, 0.014950715672378519, 0.0035944119302356043, 0.007940180022593899, 0.01335885900995919, -0.004667323290903909, -0.010398006530555401, 0.02265530180672936, -0.024743816987864264, -0.02895905206649434, 0.025495172684325648, -0.006415181613805031, 0.015116268511950378, 0.045259663991645036, 0.018108959186310336, 0.009302809318174263, -0.0486471339410932, 0.002467377454220914, 0.004699160088876153, -0.020108330029271294, 0.008080263051258916, 0.010614498991940944, -0.02599183213436384, -0.005928073342856904, -0.001926146300757056, 0.016236935535238358, 0.005526925683719371, 0.02811855203185901, 0.007628176235969005, -0.02326657354320311, 0.028194961464579536, -0.0028175859572060714, -0.02194214896398301, -0.00038323943117431414, 0.012276396703031473, -0.028526067143723254, 0.005956726880127102, 0.02918828036465592, -0.03333984091601889, 0.01907680827547988, 0.011193934396103758, 0.019140482802746984, -0.021369081943869522, 0.01768870916899267, -0.007042372913418173, 0.03805173730733239, 0.006946861588178823, -0.00812483522034589, 0.03965632794388252, -0.020859687588377907, -0.006246444582208509, -0.020375763043793137, -0.0004540770517206517, 0.016988291231699742, -0.021751127244826925, 0.016988291231699742, -0.0252659462488093, 0.013409798631772874, -0.011760635826135766, -0.00039338752985367735, -0.0068131455465792095, 0.0151290034174038, -0.008385899850818408, -0.027812916163622133, -0.010308862192381453, 0.0010331147811263632, 0.008328592776278012, 0.020299353611072612, -0.008080263051258916, -0.016135056291610987, -0.011270343828824286, 0.001380139557748165, 0.006310119109475615, -0.00729070263843727, 0.010168779163716437, -0.014568670371421118, 0.028296840708206907, 0.01660624593074234, -0.003107303892118132, 0.0038204555707112135, -0.02524047643790246, -0.00943652489411257, -0.01719204971895448, 0.001237668385064651, 0.017561360114458458, -0.027711036919994766, 0.0008683576985223529, -0.0022874976131833026, -0.02801667278823164, -0.0013371593682581957, 0.0327030993686383, -0.006322854014929036, -0.03840831093473771, 0.00033528475655309744, -0.017803323318073463, 0.0006932535052374378, -0.007653646046875848, 0.003182120995995673, 0.005485537240995752, -0.013104162763535999, -0.018198103524484283, -0.002502398444217822, -0.013422533537226297, 0.006749471484973411, -0.015383700595149607, -0.011174832037923627, 0.019522528103704386, 0.031480552170400335, 0.002222231688395827, 0.0243235669705466, 0.029875961533850196, -0.01967534510650021, 0.022718974471351235, 0.01652983649802181, 0.01683547422890392, -0.03601415988536594, -0.005641539367138853, 0.004832876130475767, -0.01824904314629797, 0.005141696190737306, 0.017141110097140793, 0.024221687726919232, 0.01056355937012726, 0.03879035809834035, -0.007914710211687057, 0.027048825561707332, -0.013333389199052349, -0.023215633921389426, -0.006275098119478706, -0.002410070612511173, -0.027328991619037363, 0.008073895598532206, 0.031760720090375595, 0.0003623463142262904, -0.0016396120922083507, 0.01734486858439553, 0.015651131747026217, -0.003871394959694244, 0.03700747878544232, -0.015498314744230397, 0.01829998090546642, -0.011779738184315899, 0.001300546747910264, 0.013766375053146051, 0.004791488153413456, -0.005167166001644148, -0.011881616496620652, -0.002964036671428452, 0.012320968872118448, 0.025456967967965385, 0.04161749593312845, 0.0006248036794636167, -0.011792472158446704, -0.019764489444674155, 0.012944976445368236, 0.018287246000013, -0.0050398174127712445, 0.009602077733684428, 0.016313344967958884, 0.011996230645701442, -0.01910227808638672, 0.026259263286240453, -0.010945604671084661, -0.0018576965331908986, 0.005737050692378204, 0.03896864677468825, -0.03616697875080699, 0.008443206925358802, 0.015460110027870132, 0.009512934326833098, -0.0039573551058435285, 0.002320926739998533, 0.024540058500609526, -0.017701444074446092, -0.0018688394590473149, -0.009309176770900976, -0.005651090546228919, -0.002427581107509627, -0.022629831995822518, -0.0024848879492193683, 0.021496429135758503, 0.02623379347533361, 0.017841528034433726, 0.017535890303551616, 0.013970132609078173, 0.00925823714908729, -0.011238506565190732, 0.002196761877488985, -0.0029497099027933535, 0.007227028111170164, 0.011849779232987098, -0.013919192987264488, 0.010951972123811373, -0.008990805065888062, -0.00012983578778277938, 0.015179943039217485, -0.018949459220945666, 0.018656558258162214, -0.00583574574398091, 0.011022014103805189, -0.017523155398098195, 0.0014072011154213579, 0.0005563538536897957, -0.016300610062505463, -0.03415487113974738, 0.0030197516499565155, 0.013804578838183697, 0.008717005529962124, -0.0018799825013190584, -0.030716461568485526, 0.008755210246322387, -0.0071442516913842345, 0.013626291093158419, 0.018911254504585404, 0.025316885870622984, 0.007367111605496488, -0.02112711874025452, -0.00391596666311991, 0.005679743617837809, 0.04169390536584897, 0.003288775363506767, 0.010888298527866883, -0.004409442386794747, -0.002153781804414343, -0.013562616565891313, -0.010461681057822508, -0.028653416198257464, -0.011773370731589187, -0.008054793240352073, -0.013015018425362053, -0.02112711874025452, -0.005218105623457832, 0.003213958259629226, -0.004797855140478859, 0.01168422639341524, -0.020948830063906625, -0.01982816397194126, 0.006195505426056133, -0.004444463376791654, -0.013728170336785788, -0.013766375053146051, 0.03733858632723127, -0.02643755196258835, -0.0043616864913444174, -0.013116896737666806, -0.014619609993234802, 0.005262677326883498, 0.0875138977468636, 0.007093312535231858, 0.0010768909022071714, 0.0019659426474683433, 0.006361058265627991, 0.019777224350127576, -0.014084745826836347, -0.02750728029538526, -0.007596338972335453, -0.007526297458002944, 0.0050398174127712445, -0.015269087377391433, -0.036421676859875414, 0.007322539902070822, 0.006806778093852498, -0.003826823023437924, 0.010805521642419645, -0.006889554513638428, 9.784942521914508e-05, 0.031047569110274478, -0.00021748739042600762, 0.008118467767619179, 0.013728170336785788, 0.020668664006576593, 0.026310202908054137, 0.027940265218156346, 0.020490375330228697, 0.006889554513638428, 0.0023782335817082744, -0.006724001674066569, -0.002464193727857559, 0.003626248961038503, 0.025839013268922788, -0.014097480732289768, 0.00227157921419718, 0.04154108650040792, -0.0036421675928552796, 0.01168422639341524, -0.0100860022782692, -0.017650504452632408, 0.004078336241989721, 0.018898519599131983, 0.0008858681353131434, -0.017535890303551616, 0.016720860079823128, -0.013371593915412611, -0.02334298297592364, 0.0032824079107800566, -0.022235051789411694, -0.0073607441527697775, 0.03866300904380614, -0.007048740366144884, -0.010136941900082885, -0.010321597097834874, -0.0032266929322519932, 0.0030070167445030945, -0.04054776760033154, -0.030181597402087073, -0.008271285701737616, -0.0027984835990259396, -0.008933497991347667, -0.011155729679743496, 0.001762185091536221, -0.006431100245621807, -0.02587721798528305, -0.026768657641732065, -0.012149048579819879, -0.0035307376357991524, -0.005724315786924782, 0.006545713929041289, -0.022387868792207517, -0.010226086238256831, -0.02832231051911375, -0.0034384100369231575, 0.02075780834475054, 0.011964393382067888, -0.0073607441527697775, -0.011531408459296802, 0.022273254643126725, 0.007806463980994285, -0.0013689965154764217, -0.03609056931808646, 0.009621180091864561, 0.006144565804242448, 0.006755838937700122, 0.003400205320562894, 0.006762206390426833, -0.0028908114307325886, -0.012537461333503992, 0.04538700932088878, 0.01733213367894211, 0.017612299736272145, 0.007723687561208356, -0.017510420492644774, 0.006249628308571864, 0.003046813324045036, 0.012467419353510175, -0.006227342224028377, 0.011486836290209829, 0.0012225458012540406, 0.008755210246322387, -0.008704270624508703, -0.020668664006576593, -0.03881582790924719, 0.018465534676360897, 0.01901313374821277, -0.010060532467362358, 0.023457597125004427, -0.015281822282844854, -0.004049682704719524, 0.02560978683340644, -0.02254068765764857, 0.03461332773607054, 0.003986008643113726, 0.007488092741642681, 0.03986008643113726, 0.012104476410732905, 0.03904505620740877, -0.0027682384314047185, -0.01122577165973731, 0.010149676805536306, -0.05338449641802308, 0.019051338464573037, 0.01026429002329448, -0.0020757807413427924, 0.00012048363524617086, -0.007398948869130041, -0.03237199182684935, 0.0027284418518627772, -0.011614184413421423, -0.012601135860771098, 0.01525635247193801, -0.013384328820866032, -0.041439207256780554, -0.014326708099128732, -0.019204155467368856, -0.008169407389432863, 0.030232537023900757, 0.005122593832557174, -0.017370338395302373, -0.030716461568485526, -0.020668664006576593, -0.008449574378085512, -0.01757409501991188, -0.024871166042398477, -0.028984521877401182, -0.015383700595149607, 0.00783830077896653, -0.012556563691684123, 0.004886999478652807, -0.014339443004582153, -0.001754225775627833, -0.039478039267534626, 0.005405944547573178, 0.0034288588578330914, -0.026412082151681504, -0.004699160088876153, -0.008188509747612996, 0.01673359498527655, 0.021789331961187187, 0.025418763251605123, 0.02122899798388189, 0.02027388380016577, 0.007449888025282418, -0.012250926892124632, -0.0019006766062655408, 0.01103474900925861, 0.004594097584546737, -0.022044028207610377, 0.0013976499363312922, 0.030640052135765, 0.017854261077241914, 0.005418679453026599, 0.018108959186310336, -0.006084075469000005, -0.002258844308743759, -0.0036867395291115992, -0.004368053944071128, -0.03318702205057784, -0.013384328820866032, 0.004629118574543645, -0.0037313114653679193, -0.013371593915412611, -0.008876191848129888, -0.0032378359745237366, 0.0032569383327038684, 0.010181514069169858, 0.03229558239412882, 0.02004465736464942, -0.00034921350118511334, 0.03461332773607054, -0.01167785894068853, -0.016682655363462865, 0.0002344008639717532, 0.015383700595149607, 0.0020805563308878253, -0.011162097132470206, 0.0001687367842139521, 0.01365176090406526, 0.023215633921389426, 0.02862794638735062, 0.03333984091601889, 0.004610016216363514, -0.003342898478853153, -0.002653624747985236, 0.027736506730901608, -0.009232767338180448, -0.005953543153763747, 0.005453699977362199, -0.013791843932730277, -0.008825252226316204, -0.021216263078428468, -0.016695390268916286, -0.019064073370026458, 0.01636428458977257, 0.0018767987749557032, -0.018656558258162214, 0.018962194126399087, -0.016644450647102602, -0.007182456407744498, -0.018656558258162214, 0.006198689152419488, 0.024820226420584793, -0.0030452214608633578, 0.014950715672378519, 0.0009129296929863363, -0.005269044779610209, -0.011900718854800783, 0.005638355640775498, 0.0040719687892630104, -0.012117211316186326, 0.013791843932730277, 0.005982196691033944, -0.01400833639411582, -0.017828793128980305, 0.006217791510599619, 0.0028637497566440686, -0.0036326164137652135, -0.003588044477508894, 0.012588400955317675, 0.017535890303551616, -0.007265232827530427, -0.02572440098248723, -0.013511677875400243, -0.04612563383718721, 0.04291644883879647, 0.017905200699055598, 0.004890183205016162, -0.019509793198250965, -0.01990457340466179, -0.013142366548573647, 0.02126720270024215, -0.027812916163622133, -0.002494439128309434, 0.017726913885352934, 0.0016412039553900283, 0.001389690736838231, -0.0008341327565316106, -0.012868567943970325, 0.01744674596537767, 0.004170663840865716, 0.02516406700518193, -0.028500597332816412, 0.009901347080517209, 0.002658400337530269, -0.011741533467955634, -0.010990176840171636, 0.005511007051902594, 0.002433948560236338, 0.02315195939412232, -0.015803950612467272, -0.02786385578543582, -7.815020565737952e-05, 0.018401860149093792, 0.008048425787625362, 0.011913453760254204, -0.01579121570701385, -0.01627514025159862, -0.017535890303551616, 0.004138826577232164, 0.034740676790604746, -0.0001280449562553079, -0.0017414909865897388, -0.00504936859186131, -0.002338437234996987, -0.01934423942735649, -0.027965735029063188, 0.0019643507842866652, 0.0016117546029443188, -0.020248413989258925, -0.03670184105456021, -0.011525041006570091, 0.006787675735672367, 0.00824581682215339, 0.021369081943869522, -0.008774312604502519, 0.011104790989252426, 0.0042470728079249355, -0.006997800744331199, 0.013944662798171331, 0.0029799553032452287, 0.007367111605496488, -0.03453691830335001, 0.010977441934718215, -0.004024212893812681, -0.03214276725397823, 0.0012862199792751652, -0.017726913885352934, -0.016810004417997078, -0.002347988181256399, 0.011887983949347362, 0.019739019633767313, 0.0020041473638286065, -0.010417108888735533, 0.033161552239670995, 0.021203528172975047, 0.013728170336785788, 9.073581572985487e-05, -0.026972416128986803, 0.03239746163775619, -0.033034206910427244, -0.004005111001293858, -0.0006932535052374378, -0.01719204971895448, 0.012149048579819879, -0.0018274512491543503, 0.011448631573849564, -0.014339443004582153, -0.023763232993241304, -0.0007907547176615489, -0.006685796957706306, 0.0018799825013190584, -0.005638355640775498, -0.011474101384756408, -0.01958620263097149, -0.02755821805455371, -0.034256750383374744, 0.023419392408644164, 0.0012313009323379406, -0.0036166977819484373, 0.020579519668402643, 0.022324194264940412, 0.0023670905394365307, 0.0012026475114830701, -0.008627862123110792, -0.019115012991840142, -0.022145907451237748, 0.0057466018714682696, -0.023661353749613933, -0.007653646046875848, 0.008290388059917749, 0.014619609993234802, 0.010722744756972408, -0.014237563760954785, -0.023393922597737322, -0.01402107129956924, -0.02124173288933531, -0.010162411710989727, -0.006673062052252885, 0.019280564900089385, 0.003263305785430579, -0.012862200491243614, -0.016313344967958884, 0.02289726314769913, 0.01223819198667121, 0.00785103568441995, -0.023534006557724953, -0.0048233249513857015, 0.003447960983182569, 0.014925245861471677, -0.005058919770951376, 0.0006705695131061949, -0.03188806914490981, -0.00471507872069293, 0.020987034780266887, -0.023686823560520775, -0.017777853507166617, 0.024132543388745282, 0.005705213428744651, -0.02269350466044439, -0.012944976445368236, 0.003183712859177351, -0.0017717362706262869, 0.006138198351515737, 0.020961564969360046, -0.014887041145111414, -0.00729707009116398, -0.00010267473866073162, 0.001145340669773329, -0.006934126682725402, 0.015383700595149607, 0.02418348301055897, -0.011837044327533677, 0.01967534510650021, -0.026666778398104697, -0.0015958360875428694, 0.020031922459195998, -0.026182855716165156, 0.02755821805455371, -0.015167208133764064, -0.0010737071758438162, 0.024272627348732916, 0.009417422535932439, -0.009576608854100202, -0.013218775981294175, 0.006615755443373798, -0.015587458151081729, 0.004699160088876153, 0.02215864235669117, -0.012645708029858071, -0.02717617275359631, -0.009302809318174263, -0.01205353678891922, -0.0213563470384161, -0.007392581416403331, -0.03700747878544232, -0.005396393368483112, -0.016886413850717603, 0.003467063341362701, 0.0027364011677711653, -0.01967534510650021, -0.00020495151152604384, 0.0016587144503884823, 0.0035753095720554725, 0.009945919249604184, -0.005858031828524396, 0.0026122365380922717, -0.010818256547873066, -0.0032824079107800566, 0.017637769547178987, -0.017866995982695335, -0.02694694631807996, 0.01794340541541586, 0.008532350332210134, -0.001038686302262235, 0.029621265287427007, 0.21068538175168783, -0.007691850297574803, 0.00392233411584662, 0.031302263494052435, 0.006192321699692777, 0.014976185483285363, 0.011168464585196916, 0.002093291236341246, 0.00490610137117163, 0.03198994838853718, -0.011862514138440519, -0.006224158497665022, -0.027328991619037363, 0.006520244118134447, 0.009646649902771403, -0.002546970380474142, -0.02951938604379964, -0.003804536938894437, -0.0211143838348011, -0.02727805199722368, -0.020108330029271294, -0.010334332003288297, -0.02264256690127594, 0.0025549296963825303, 0.007494460194369392, 0.01563839870421803, 0.00420886855722598, -0.006335588454721148, 0.030996629488460794, -0.00738621396367662, -0.011983495740248021, -0.015269087377391433, 0.018083489375403494, 0.010735479662425829, -0.010117839541902752, 0.0018115326173375739, 0.021712922528466662, -0.004352135312254352, 0.02441271130872055, -0.00981220274234326, 0.007233395563896875, 0.012365541041205422, -0.014848837360073766, -0.013664495809518682, -0.006287833024932127, -0.0005889868742911968, 0.011607816960694713, -0.024030664145117914, 0.016096851575250724, 0.01576574589610701, -0.017726913885352934, -0.005253126147793432, 0.029875961533850196, 0.05198366426872768, 0.006262363214025285, 0.01067817351920805, 0.020643194195669748, 0.0008954192561955457, -0.00462593484818029, -0.010143309352809595, -0.004972959624802092, 0.027685567109087924, -0.015179943039217485, 0.019407913954623594, -0.014836102454620345, 0.01430123828822189, -0.014046541110476084, -0.00784466823169324, 0.0017478584393164492, -0.0011238506332360077, -0.009321911676354397, -0.004428544744974878, 0.0065966530851936656, -0.01092650231290453, -0.023457597125004427, -0.006345139633811214, 0.02646302177349519, 0.014988920388738784, 0.013256980697654437, 0.01734486858439553, -0.008564187595843686, 0.004469932722037189, -0.005571497387145036, -0.011556878270203644, -0.02610644628344463, -0.03183712952309612, 0.004323482240645462, -0.004756467163416549, -0.010149676805536306, -0.0014971410359401636, 0.004237522094496177, -0.01402107129956924, -0.01316783635948049, 0.007672747939394671, 0.023584944316893407, 0.026972416128986803, -0.005667009178045695, 0.020796013061110803, -0.026412082151681504, 0.028194961464579536, -0.012320968872118448, -0.010506252295586865, -0.004915652550261697, 0.009124521573148985, -0.004457198282245076, 0.00897170270770793, -0.014988920388738784, 0.0020646379319017027, 0.008984437613161351, -0.016911883661624445, -0.015281822282844854, -0.019980982837382314, 0.012422848115745818, 0.005558762947352924, 0.009207297527273606, 0.009379217819572174, 0.019153217708200405, -0.003750413823548051, -0.01743401105992425, 0.005517374504629305, 0.007519930005276234, 0.003954171379480173, -0.020235679083805504, 0.002658400337530269, 0.008946232896801088, -0.01684820913435734, -0.005797541027620646, -0.007182456407744498, 0.011875249043893941, -0.03889223734196772, 0.016669920458009444, -0.027532750106292102, 0.002970404124155163, 0.004383972575887904, -0.01652983649802181, -0.007972017286227453, 0.0012225458012540406, -0.006889554513638428, -0.03122585592397714, 0.005383658463029691, 0.0008627861773864811, -0.007405316321856752, -0.005023898780954468, 0.014785162832806661, -0.004622751121816935, -0.030461765322062337, 0.006794043188399077, -0.01204716933619251, -0.008646964481290924, -0.010538089559220419, -0.027685567109087924, 0.004590913858183381, -0.003172569816905607, -0.008710638077235414, 0.030792871001206056, -0.018834845071864878, -0.025227741532449038, -0.019204155467368856, -0.0017828791964827034, 0.003205998943720838, -0.016058648721535694, 0.016568041214382077, 0.027150702942689467, -0.01567660155793306, -0.01263934057713136, -0.017854261077241914, -0.1616816741831893, 0.03649808629259594, 0.008882559300856598, -0.04806132829023583, 0.01139132449930917, 0.01817263371357744, 0.03899411658559509, 0.00043895440970237763, -0.002774605884131429, 0.014084745826836347, 0.010818256547873066, -0.019598937536424912, -0.023177429205029163, -0.006711266768613148, 0.002236558224200272, -0.024552793406062947, 0.0013841192157023592, 0.009321911676354397, 0.04149014687859424, 0.02386511223686867, 0.013435268442679718, -0.018643823352708793, 0.020337558327432875, 0.009347381487261238, 0.006762206390426833, -0.021903944247622747, 0.008226714463973259, 0.01877117054459777, -0.009468362157746123, -0.006895921966365138, -0.03456238811425685, 0.0008110508568126118, -0.001287015910866004, -0.0026217874843516833, 0.006154116983332514, -0.0035148190039823763, 0.0014541608464501944, -0.0293156275565449, -0.01167785894068853, 0.029290159608283288, 0.03204088801035086, 0.011308548545184548, -0.005014347601864403, -0.018707497879975898, -0.010436211246915664, 0.011429529215669433, 0.016160526102517832, 0.02102523949662715, 0.005218105623457832, -0.0013284042371742957, -0.004670507017267264, -0.019064073370026458, 0.01636428458977257, -0.003167794227360574, 0.00943015744138586, 0.020375763043793137, -0.011977128287521309, 0.02964673509833385, 0.005058919770951376, 0.005189452086187635, 0.009029009782248326, -0.01263297312440465, 0.008646964481290924, -0.003941436474026752, 0.006173219341512645, -0.019777224350127576, 0.010105104636449331, 0.009888612175063788, -0.03038535588934181, 0.020719603628390277, -0.0025262761591123327, -0.023712293371427617, -0.011881616496620652, -0.04136279782406003, 0.027583687865460553, 0.015867625139734377, -0.042305177102322726, 0.0025071738009322013, -0.002357539360346465, -0.013231510886747596, -0.008780680057229229, 0.03802626749642554, 0.0015886727032253202, 0.03435862962700212, -0.016517103455213622, 0.002459418138312526, 0.01269664672034914, -0.014224828855501363, -0.019789959255580997, -0.013065958047175736, 0.03463879754697738, -0.011187566943377048, -0.012206355654360275, 0.00025688584410145463, -0.014721488305539555, 0.006526611570861158, 0.010474415031953312, 0.003049997050408391, -0.0192296252782757, 0.014377647720942417, -0.0016165301924893519, -0.0002556919467151964, -0.013435268442679718, 0.002090107509977891, 0.008640597028564213, 0.003950987653116818, 0.009633914997317982, 0.01132128345063797, 0.014237563760954785, -0.021050709307533992, -0.004524056070214229, 0.014861572265527189, 0.02194214896398301, 0.036625431621839684, 0.006577550727013534, 0.0233811876922839, 0.0019277381639387337, -0.024769286798771106, 0.016950088377984708, -0.021661982906652975, 0.03700747878544232, -0.0022524768560170487, -0.04773022447373734, -0.01661898083619576, -0.0008930314614230293, 0.007016903102511332, -0.09046838836147639, -0.029901431344757038, 0.002712523452876655, 0.008035691813494557, -0.013715435431332365, 0.028500597332816412, 0.005536476862809437, 0.018363655432733526, -0.010741847115152539, 0.015714806274293322, -0.016440694022493096, -0.01602044400517543, -0.017281194057128427, -0.015090798701043536, 0.036650901432746526, -0.016173261007971253, -0.02870435582007115, -0.018427329960000634, -0.004027396620176036, 0.018962194126399087, -0.014454056222340328, -0.03272856917954514, 0.009398320177752306, -0.0026711352429836903, -0.025304150965169563, -0.004638669753633711, -0.014097480732289768, 0.02184026972035564, 0.02359767922234683, -0.0018433697645557996, -0.001064951928344589, -0.024527323595156105, -0.0008341327565316106, -0.017816058223526884, -0.004746915984326482, -0.005405944547573178, -0.04811226791204951, 0.002929015914262198, -0.01766323935808583, -0.02811855203185901, 0.015472844933323553, 0.0372367070836039, 8.208009605927238e-05, -0.031480552170400335, 0.011875249043893941, 0.004695976362512798, -0.026157385905258315, 0.02264256690127594, -0.007717320108481645, -0.016899148756171024, -0.022566157468555413, -0.015587458151081729, -0.0330087370995204, 0.002604277222183883, 0.018732965828237507, -0.014377647720942417, 0.007462622930735839, 0.013218775981294175, -0.0030261191026832264, 0.00631967028856568, 0.013970132609078173, -0.005647906819865564, -0.01990457340466179, 0.006338772181084504, -0.011977128287521309, -0.006491590580864249, -0.006068156837183229, 0.0012058312378464254, -0.00203280066826815, -0.0014326708099128731, -0.01334612410450577, 0.02292273295860597, -0.017039230853513426, 0.006991433757265797, -0.009678487166404955, 0.01661898083619576, -0.014861572265527189, -0.027583687865460553, 0.011174832037923627, -0.017854261077241914, -0.023241103732296268, -0.0153200260678825, -0.006227342224028377, -0.006227342224028377, 0.03830643541640081, 0.004781936974323391, -0.004075152515626366, -0.019038603559119616, -0.000316182485684461, -0.023304778259563372, -0.00841773711445196, 0.02750728029538526, 0.0012750770534187487, -0.004234338368132822, 0.0036421675928552796, -0.012199988201633564, -0.02101250459117373, 0.008863456942676467, 0.01400833639411582, -0.0040656013365363, -0.016287875157052042, -0.008513247974030002, -0.03891770715287456, 0.033620008835994156, -0.01877117054459777, -0.023750498087787883, 0.006628490348827219, -0.0014239155624136462, 0.013244245792201017, -0.023088286729500446, 0.008551452690390265, -0.018363655432733526, -0.01092013486017782, 0.01139769195203588, 0.01413568544865003, 0.0006025176531277933, -0.02231145935948699, -0.02827137089730006, 0.022820853714978603, 0.015396435500603028, 0.021789331961187187, 0.013880988270904225, -0.0036517187719453453, -0.011365854688402328, -0.008863456942676467, 0.00340975649965296, 0.006806778093852498, 0.010983809387444926, -0.02681959726354575, 0.01577848080156043, 0.011537775912023512, -0.027048825561707332, 0.011130259868836652, -0.02954485585470648, 0.002524684295930655, 0.030156129453825464, -0.009672119713678245, 0.008729740435415545, 0.021420019703037974, 0.05343543603983676, -0.004508137438397453, 0.010690907493338855, -0.011359487235675618, -0.018287246000013, 0.006622122896100508, 0.0013729761734306157, -0.012225458012540406, 0.007137884238657524, -0.01577848080156043, 0.0024084787493294955, 0.02302461220223334, 0.0032824079107800566, 0.014708753400086134, 0.01065907116102792, -0.01056355937012726, -0.004861529667745965, -0.01967534510650021, -0.042279707291415884, 0.0011509121909092008, -0.0007012127629381625, -0.0007676727597348865, -0.01907680827547988, 0.039197875072849823, 0.014708753400086134, 0.011480468837483118, 0.0038586600542408226, 0.0023686824026182083, 0.010499884842860154, -0.015511049649683818, -0.006577550727013534, -0.004167480114502361, -0.023177429205029163, -0.024756551893317685, -0.018325450716373263, -0.01281126086942993, 0.004454014555881721, 0.020146534745631557, 0.01055082446467384, -0.004972959624802092, -0.00398282491675037, -0.029290159608283288, 0.03461332773607054, 0.02217137726214459, -0.002835096452204525, -0.008939865444074378, -0.0008596025092307894, 0.024374506592360286, 0.02245154331947462, 0.002742768620497876, 0.0205540498574958, -0.005087573308221574, 0.011123893347432558, -0.03504631079619639, -0.016287875157052042, -0.009576608854100202, 0.03333984091601889, 0.0021728841625944747, 0.006590285632466955, 0.0056574579989556294, 0.008812517320862783, 0.019739019633767313, 0.008634229575837503, 0.01093286976563124, 0.0003623463142262904, -0.023432127314097585, -0.0190895431809333, -0.010589029181034102, 0.005982196691033944, -0.027354461429944205, -0.03789891844189133, 0.0023368453718153096, 0.014836102454620345, 0.010786419284239514, 0.009582976306826913, 0.018962194126399087, 0.017561360114458458, -0.00981220274234326, -0.005351821199396138, 0.004530423522940939, -0.011359487235675618, -0.02720164256450315, 0.05114316423409235, -0.022859058431338865, 0.006271914393115351, 0.03137867292677296, -0.0005913746690637133, 0.011232139112464021, 0.01363902599861184, -0.012117211316186326, -0.0073161724493441115, 0.023177429205029163, 0.007819199352109014, 0.024973043423380612, -0.02074507343929712, -0.016937353472531287, -0.012066271694372641, -0.010582661728307392, -0.005437781811206731, 0.00700416819705791, 0.03973273737660305, -0.020961564969360046, 0.049309345299380636, 0.008704270624508703, -0.0037344951917312745, 0.011837044327533677, 0.01733213367894211, 0.031429612548586644, 0.01568933646338648, -0.0036867395291115992, -0.010811889095146356, -0.021687452717559817, -0.010881931075140173, -0.009678487166404955, -0.00022982427187634585, -0.031047569110274478, -0.025826278363469367, -0.009665752260951534, -0.016109586480704145, -0.003486165699542833, -0.006418365340168386, 0.025966362323456997, 0.015549253434721464, 0.008092997956712337, 0.004415809839521457, -0.004788304427050101, -0.01800707994268297, -0.0014629160939494215, 0.028449657711002725, 0.007233395563896875, -0.027812916163622133, -0.05050642268671176, -0.004861529667745965, 0.014887041145111414, -0.014046541110476084, -0.017421276154470828, 0.021903944247622747, -0.0015616111455521273, -0.007780994170087443, -0.00848777816312316, 0.003444777256819214, 0.010047797561908937, 0.014912510956018256, 0.025495172684325648, -0.014288503382768469, -0.009315544223627686, 0.0008042854964981453, -0.00292105659835381, -0.01614779119706441, 0.009659384808224824, -0.01900039884275935]\n"
          ]
        }
      ]
    },
    {
      "cell_type": "code",
      "source": [
        "vectorindex_openaiEmbed = FAISS.from_documents(docs, embeddings)\n",
        "\n",
        "chain = RetrievalQAWithSourcesChain.from_llm(llm=llm, retriever=vectorindex_openaiEmbed.as_retriever())"
      ],
      "metadata": {
        "id": "eSc3IV27aVz0"
      },
      "execution_count": 33,
      "outputs": []
    },
    {
      "cell_type": "code",
      "source": [
        "query = \"Who is larry\"\n",
        "\n",
        "langchain.debug=False\n",
        "\n",
        "chain({\"question\": query}, return_only_outputs=True)"
      ],
      "metadata": {
        "colab": {
          "base_uri": "https://localhost:8080/"
        },
        "id": "knZXpX3UaWGe",
        "outputId": "9317fa3c-b5c9-40fc-ba6f-c954c2c3db1a"
      },
      "execution_count": 38,
      "outputs": [
        {
          "output_type": "execute_result",
          "data": {
            "text/plain": [
              "{'answer': ' Larry could potentially be Larry Page, the co-founder of Google. It is unclear without further context. \\n',\n",
              " 'sources': 'https://en.wikipedia.org/wiki/Google'}"
            ]
          },
          "metadata": {},
          "execution_count": 38
        }
      ]
    },
    {
      "cell_type": "code",
      "source": [],
      "metadata": {
        "id": "_ju6hVCPaWVp"
      },
      "execution_count": null,
      "outputs": []
    }
  ]
}